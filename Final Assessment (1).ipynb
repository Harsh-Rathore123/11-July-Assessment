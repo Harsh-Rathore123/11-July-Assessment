{
 "cells": [
  {
   "cell_type": "code",
   "execution_count": 1,
   "id": "9cb7daae-4f27-4418-95c6-6c9fa8916e10",
   "metadata": {},
   "outputs": [],
   "source": [
    "import pandas as pd\n",
    "from sklearn.model_selection import train_test_split\n",
    "from sklearn.preprocessing import StandardScaler\n",
    "from sklearn.impute import SimpleImputer"
   ]
  },
  {
   "cell_type": "code",
   "execution_count": 3,
   "id": "4ce3239e-1631-47c6-8f57-b4c10775ae4e",
   "metadata": {},
   "outputs": [
    {
     "data": {
      "text/html": [
       "<div>\n",
       "<style scoped>\n",
       "    .dataframe tbody tr th:only-of-type {\n",
       "        vertical-align: middle;\n",
       "    }\n",
       "\n",
       "    .dataframe tbody tr th {\n",
       "        vertical-align: top;\n",
       "    }\n",
       "\n",
       "    .dataframe thead th {\n",
       "        text-align: right;\n",
       "    }\n",
       "</style>\n",
       "<table border=\"1\" class=\"dataframe\">\n",
       "  <thead>\n",
       "    <tr style=\"text-align: right;\">\n",
       "      <th></th>\n",
       "      <th>Company</th>\n",
       "      <th>TypeName</th>\n",
       "      <th>Ram</th>\n",
       "      <th>Weight</th>\n",
       "      <th>Price</th>\n",
       "      <th>TouchScreen</th>\n",
       "      <th>Ips</th>\n",
       "      <th>Ppi</th>\n",
       "      <th>Cpu_brand</th>\n",
       "      <th>HDD</th>\n",
       "      <th>SSD</th>\n",
       "      <th>Gpu_brand</th>\n",
       "      <th>Os</th>\n",
       "    </tr>\n",
       "  </thead>\n",
       "  <tbody>\n",
       "    <tr>\n",
       "      <th>0</th>\n",
       "      <td>Apple</td>\n",
       "      <td>Ultrabook</td>\n",
       "      <td>8</td>\n",
       "      <td>1.37</td>\n",
       "      <td>11.175755</td>\n",
       "      <td>0</td>\n",
       "      <td>1</td>\n",
       "      <td>226.983005</td>\n",
       "      <td>Intel Core i5</td>\n",
       "      <td>0</td>\n",
       "      <td>128</td>\n",
       "      <td>Intel</td>\n",
       "      <td>Mac</td>\n",
       "    </tr>\n",
       "    <tr>\n",
       "      <th>1</th>\n",
       "      <td>Apple</td>\n",
       "      <td>Ultrabook</td>\n",
       "      <td>8</td>\n",
       "      <td>1.34</td>\n",
       "      <td>10.776777</td>\n",
       "      <td>0</td>\n",
       "      <td>0</td>\n",
       "      <td>127.677940</td>\n",
       "      <td>Intel Core i5</td>\n",
       "      <td>0</td>\n",
       "      <td>0</td>\n",
       "      <td>Intel</td>\n",
       "      <td>Mac</td>\n",
       "    </tr>\n",
       "    <tr>\n",
       "      <th>2</th>\n",
       "      <td>HP</td>\n",
       "      <td>Notebook</td>\n",
       "      <td>8</td>\n",
       "      <td>1.86</td>\n",
       "      <td>10.329931</td>\n",
       "      <td>0</td>\n",
       "      <td>0</td>\n",
       "      <td>141.211998</td>\n",
       "      <td>Intel Core i5</td>\n",
       "      <td>0</td>\n",
       "      <td>256</td>\n",
       "      <td>Intel</td>\n",
       "      <td>Others</td>\n",
       "    </tr>\n",
       "    <tr>\n",
       "      <th>3</th>\n",
       "      <td>Apple</td>\n",
       "      <td>Ultrabook</td>\n",
       "      <td>16</td>\n",
       "      <td>1.83</td>\n",
       "      <td>11.814476</td>\n",
       "      <td>0</td>\n",
       "      <td>1</td>\n",
       "      <td>220.534624</td>\n",
       "      <td>Intel Core i7</td>\n",
       "      <td>0</td>\n",
       "      <td>512</td>\n",
       "      <td>AMD</td>\n",
       "      <td>Mac</td>\n",
       "    </tr>\n",
       "    <tr>\n",
       "      <th>4</th>\n",
       "      <td>Apple</td>\n",
       "      <td>Ultrabook</td>\n",
       "      <td>8</td>\n",
       "      <td>1.37</td>\n",
       "      <td>11.473101</td>\n",
       "      <td>0</td>\n",
       "      <td>1</td>\n",
       "      <td>226.983005</td>\n",
       "      <td>Intel Core i5</td>\n",
       "      <td>0</td>\n",
       "      <td>256</td>\n",
       "      <td>Intel</td>\n",
       "      <td>Mac</td>\n",
       "    </tr>\n",
       "  </tbody>\n",
       "</table>\n",
       "</div>"
      ],
      "text/plain": [
       "  Company   TypeName  Ram  Weight      Price  TouchScreen  Ips         Ppi  \\\n",
       "0   Apple  Ultrabook    8    1.37  11.175755            0    1  226.983005   \n",
       "1   Apple  Ultrabook    8    1.34  10.776777            0    0  127.677940   \n",
       "2      HP   Notebook    8    1.86  10.329931            0    0  141.211998   \n",
       "3   Apple  Ultrabook   16    1.83  11.814476            0    1  220.534624   \n",
       "4   Apple  Ultrabook    8    1.37  11.473101            0    1  226.983005   \n",
       "\n",
       "       Cpu_brand  HDD  SSD Gpu_brand      Os  \n",
       "0  Intel Core i5    0  128     Intel     Mac  \n",
       "1  Intel Core i5    0    0     Intel     Mac  \n",
       "2  Intel Core i5    0  256     Intel  Others  \n",
       "3  Intel Core i7    0  512       AMD     Mac  \n",
       "4  Intel Core i5    0  256     Intel     Mac  "
      ]
     },
     "execution_count": 3,
     "metadata": {},
     "output_type": "execute_result"
    }
   ],
   "source": [
    "df = pd.read_csv('laptops.csv')\n",
    "df.head()"
   ]
  },
  {
   "cell_type": "code",
   "execution_count": 4,
   "id": "7a739ccb-b1a6-46ef-af0f-bbc978324b8f",
   "metadata": {},
   "outputs": [
    {
     "data": {
      "text/plain": [
       "Company        0\n",
       "TypeName       0\n",
       "Ram            0\n",
       "Weight         0\n",
       "Price          0\n",
       "TouchScreen    0\n",
       "Ips            0\n",
       "Ppi            0\n",
       "Cpu_brand      0\n",
       "HDD            0\n",
       "SSD            0\n",
       "Gpu_brand      0\n",
       "Os             0\n",
       "dtype: int64"
      ]
     },
     "execution_count": 4,
     "metadata": {},
     "output_type": "execute_result"
    }
   ],
   "source": [
    "df.isnull().sum()"
   ]
  },
  {
   "cell_type": "code",
   "execution_count": 5,
   "id": "2da9e0ac-e430-4dcc-b5b2-8fd246117d5e",
   "metadata": {},
   "outputs": [],
   "source": [
    "numerical = df.select_dtypes(include=['float64', 'int64']).columns\n",
    "\n",
    "categorical = df.select_dtypes(include=['object']).columns\n"
   ]
  },
  {
   "cell_type": "code",
   "execution_count": 6,
   "id": "da0388a3-9cca-462d-928a-ae62facdfc21",
   "metadata": {},
   "outputs": [],
   "source": [
    "from sklearn.preprocessing import LabelEncoder\n",
    "\n",
    "label_encoders = {}\n",
    "for col in categorical:\n",
    "    le = LabelEncoder()\n",
    "    df[col] = le.fit_transform(df[col])\n",
    "    label_encoders[col] = le"
   ]
  },
  {
   "cell_type": "code",
   "execution_count": 7,
   "id": "23b7a9f7-a6dc-4e28-82fd-ce1e7e62274d",
   "metadata": {},
   "outputs": [],
   "source": [
    "from sklearn.preprocessing import StandardScaler\n",
    "\n",
    "scaler = StandardScaler()\n",
    "df[numerical] = scaler.fit_transform(df[numerical])"
   ]
  },
  {
   "cell_type": "code",
   "execution_count": 8,
   "id": "4ae71f0b-66eb-4029-a8e7-593e46d282f3",
   "metadata": {},
   "outputs": [
    {
     "data": {
      "image/png": "[encoded data removed]",
      "text/plain": [
       "<Figure size 640x480 with 2 Axes>"
      ]
     },
     "metadata": {},
     "output_type": "display_data"
    }
   ],
   "source": [
    "import seaborn as sns\n",
    "import matplotlib.pyplot as plt\n",
    "\n",
    "sns.heatmap(df.corr(), annot=True)\n",
    "plt.show()\n"
   ]
  },
  {
   "cell_type": "code",
   "execution_count": 9,
   "id": "92241c15-24db-48ee-af30-4cec0f23fe59",
   "metadata": {},
   "outputs": [],
   "source": [
    "from sklearn.ensemble import RandomForestRegressor"
   ]
  },
  {
   "cell_type": "code",
   "execution_count": 10,
   "id": "039c2b5c-50bc-4106-89f3-367578923294",
   "metadata": {},
   "outputs": [],
   "source": [
    "X = df.drop('Price', axis=1)\n",
    "y = df['Price']"
   ]
  },
  {
   "cell_type": "code",
   "execution_count": 11,
   "id": "894e1152-ab36-4b47-bcb2-e20a7cc573eb",
   "metadata": {},
   "outputs": [],
   "source": [
    "X_train , X_test , y_train , y_test = train_test_split(X,y,test_size=0.2,random_state=42)\n"
   ]
  },
  {
   "cell_type": "code",
   "execution_count": 12,
   "id": "18dc858f-939c-44e2-92ef-c565c6c601a8",
   "metadata": {},
   "outputs": [
    {
     "data": {
      "text/html": [
       "<style>#sk-container-id-1 {color: black;background-color: white;}#sk-container-id-1 pre{padding: 0;}#sk-container-id-1 div.sk-toggleable {background-color: white;}#sk-container-id-1 label.sk-toggleable__label {cursor: pointer;display: block;width: 100%;margin-bottom: 0;padding: 0.3em;box-sizing: border-box;text-align: center;}#sk-container-id-1 label.sk-toggleable__label-arrow:before {content: \"▸\";float: left;margin-right: 0.25em;color: #696969;}#sk-container-id-1 label.sk-toggleable__label-arrow:hover:before {color: black;}#sk-container-id-1 div.sk-estimator:hover label.sk-toggleable__label-arrow:before {color: black;}#sk-container-id-1 div.sk-toggleable__content {max-height: 0;max-width: 0;overflow: hidden;text-align: left;background-color: #f0f8ff;}#sk-container-id-1 div.sk-toggleable__content pre {margin: 0.2em;color: black;border-radius: 0.25em;background-color: #f0f8ff;}#sk-container-id-1 input.sk-toggleable__control:checked~div.sk-toggleable__content {max-height: 200px;max-width: 100%;overflow: auto;}#sk-container-id-1 input.sk-toggleable__control:checked~label.sk-toggleable__label-arrow:before {content: \"▾\";}#sk-container-id-1 div.sk-estimator input.sk-toggleable__control:checked~label.sk-toggleable__label {background-color: #d4ebff;}#sk-container-id-1 div.sk-label input.sk-toggleable__control:checked~label.sk-toggleable__label {background-color: #d4ebff;}#sk-container-id-1 input.sk-hidden--visually {border: 0;clip: rect(1px 1px 1px 1px);clip: rect(1px, 1px, 1px, 1px);height: 1px;margin: -1px;overflow: hidden;padding: 0;position: absolute;width: 1px;}#sk-container-id-1 div.sk-estimator {font-family: monospace;background-color: #f0f8ff;border: 1px dotted black;border-radius: 0.25em;box-sizing: border-box;margin-bottom: 0.5em;}#sk-container-id-1 div.sk-estimator:hover {background-color: #d4ebff;}#sk-container-id-1 div.sk-parallel-item::after {content: \"\";width: 100%;border-bottom: 1px solid gray;flex-grow: 1;}#sk-container-id-1 div.sk-label:hover label.sk-toggleable__label {background-color: #d4ebff;}#sk-container-id-1 div.sk-serial::before {content: \"\";position: absolute;border-left: 1px solid gray;box-sizing: border-box;top: 0;bottom: 0;left: 50%;z-index: 0;}#sk-container-id-1 div.sk-serial {display: flex;flex-direction: column;align-items: center;background-color: white;padding-right: 0.2em;padding-left: 0.2em;position: relative;}#sk-container-id-1 div.sk-item {position: relative;z-index: 1;}#sk-container-id-1 div.sk-parallel {display: flex;align-items: stretch;justify-content: center;background-color: white;position: relative;}#sk-container-id-1 div.sk-item::before, #sk-container-id-1 div.sk-parallel-item::before {content: \"\";position: absolute;border-left: 1px solid gray;box-sizing: border-box;top: 0;bottom: 0;left: 50%;z-index: -1;}#sk-container-id-1 div.sk-parallel-item {display: flex;flex-direction: column;z-index: 1;position: relative;background-color: white;}#sk-container-id-1 div.sk-parallel-item:first-child::after {align-self: flex-end;width: 50%;}#sk-container-id-1 div.sk-parallel-item:last-child::after {align-self: flex-start;width: 50%;}#sk-container-id-1 div.sk-parallel-item:only-child::after {width: 0;}#sk-container-id-1 div.sk-dashed-wrapped {border: 1px dashed gray;margin: 0 0.4em 0.5em 0.4em;box-sizing: border-box;padding-bottom: 0.4em;background-color: white;}#sk-container-id-1 div.sk-label label {font-family: monospace;font-weight: bold;display: inline-block;line-height: 1.2em;}#sk-container-id-1 div.sk-label-container {text-align: center;}#sk-container-id-1 div.sk-container {/* jupyter's `normalize.less` sets `[hidden] { display: none; }` but bootstrap.min.css set `[hidden] { display: none !important; }` so we also need the `!important` here to be able to override the default hidden behavior on the sphinx rendered scikit-learn.org. See: https://github.com/scikit-learn/scikit-learn/issues/21755 */display: inline-block !important;position: relative;}#sk-container-id-1 div.sk-text-repr-fallback {display: none;}</style><div id=\"sk-container-id-1\" class=\"sk-top-container\"><div class=\"sk-text-repr-fallback\"><pre>RandomForestRegressor()</pre><b>In a Jupyter environment, please rerun this cell to show the HTML representation or trust the notebook. <br />On GitHub, the HTML representation is unable to render, please try loading this page with nbviewer.org.</b></div><div class=\"sk-container\" hidden><div class=\"sk-item\"><div class=\"sk-estimator sk-toggleable\"><input class=\"sk-toggleable__control sk-hidden--visually\" id=\"sk-estimator-id-1\" type=\"checkbox\" checked><label for=\"sk-estimator-id-1\" class=\"sk-toggleable__label sk-toggleable__label-arrow\">RandomForestRegressor</label><div class=\"sk-toggleable__content\"><pre>RandomForestRegressor()</pre></div></div></div></div></div>"
      ],
      "text/plain": [
       "RandomForestRegressor()"
      ]
     },
     "execution_count": 12,
     "metadata": {},
     "output_type": "execute_result"
    }
   ],
   "source": [
    "model_rf = RandomForestRegressor()\n",
    "model_rf.fit(X, y)"
   ]
  },
  {
   "cell_type": "code",
   "execution_count": 18,
   "id": "545e4437-9fc3-4cf8-8712-8c3fbe9b11e2",
   "metadata": {},
   "outputs": [
    {
     "data": {
      "text/plain": [
       "array([-0.53578708,  0.64302259,  0.59286932,  0.84242017,  0.22412454,\n",
       "        1.41163169, -1.9325059 , -1.184788  ,  0.54919706,  1.64244264,\n",
       "       -0.09565428,  0.06500814,  0.02933962, -0.52101651,  0.91774195,\n",
       "        0.66537319,  0.82122917, -1.25578328,  1.64580551,  1.14446348,\n",
       "       -1.94852183, -0.17830846, -0.58512284,  1.02613102, -1.69796486,\n",
       "        1.50712599, -0.25432161,  0.06460818,  1.01598699, -0.0352574 ,\n",
       "       -0.11327196, -0.07586494, -0.88254513, -0.84641019,  0.65409523,\n",
       "        0.16166748, -0.62420487,  0.4479513 ,  1.2082113 , -1.17524556,\n",
       "       -1.4706027 ,  1.52229777,  0.36181152, -0.03559489, -1.12607592,\n",
       "        0.88906807,  0.82966349, -0.95735622,  0.37768922, -0.07471143,\n",
       "        0.50702256,  1.27822556, -0.07950888, -1.0880641 ,  0.1842712 ,\n",
       "        0.16035321,  0.95523811, -1.05408829, -0.21827496,  2.76152909,\n",
       "        1.49837461,  0.33653345,  0.03407484, -1.81206323,  0.91792807,\n",
       "       -0.52033006, -1.48647612, -0.66324949, -0.55569375,  0.10005884,\n",
       "        1.14133409, -1.20306019,  0.83457208,  0.19606438, -0.92262745,\n",
       "        1.05804555,  0.40499982,  1.32721689, -1.22634939,  0.91319475,\n",
       "       -0.14054686, -0.72398418, -0.67286126, -1.1413339 , -0.52804564,\n",
       "        1.08772491, -0.63720536, -0.39755024, -0.71636441,  0.06295074,\n",
       "        0.97337617,  0.4976119 , -0.17553717, -0.27206303, -0.30160011,\n",
       "       -0.12004045,  0.89358158, -1.67280686,  0.658807  ,  0.753174  ,\n",
       "       -0.85140737,  1.15545334, -0.06352028, -1.66836161, -0.56546422,\n",
       "        0.43264558, -0.08381539, -0.43258044, -0.0192182 , -0.29538216,\n",
       "       -0.03958719, -0.67328601,  0.23422499,  1.12481937,  0.44882353,\n",
       "       -0.08361621, -2.11430263,  1.34745347,  0.6944766 , -1.68209082,\n",
       "        0.83021135, -0.25815489, -1.60058589, -0.11139909,  0.17319224,\n",
       "       -1.33289662,  0.31965675, -0.21489877,  1.0881477 , -0.73575772,\n",
       "        0.50811366,  0.62826837,  1.61279844,  0.40330472,  1.42826825,\n",
       "       -0.48736764, -0.38576708,  0.99261473,  0.27239703, -1.63324759,\n",
       "       -1.19468899,  0.30911018, -0.64272827,  0.35456856,  0.87252822,\n",
       "       -1.49835133,  0.29660877,  0.90615052, -2.08295377, -1.06953342,\n",
       "        0.38057876,  1.32195604, -0.18505804, -0.23328309,  0.30706259,\n",
       "        0.7057287 , -0.83319759,  0.48346302, -2.18746831, -1.47257735,\n",
       "       -1.40568357, -0.81051976,  0.13080469, -1.19871786, -0.51119712,\n",
       "        0.65051595, -1.80172718,  0.35492905, -2.18261843,  0.7347636 ,\n",
       "       -0.79137465,  0.40611824, -0.7891254 ,  1.27455759, -1.91488872,\n",
       "        1.09387749,  0.81192198, -0.04571888,  0.23506971,  0.83726942,\n",
       "        0.67564354,  0.76598884, -0.93087052,  0.36956288, -0.4525868 ,\n",
       "       -1.16891932, -1.250888  ,  0.01951075, -1.31099563,  0.6438853 ,\n",
       "       -0.66206858, -0.27110877, -0.20811674, -1.86346916,  0.4801166 ,\n",
       "        1.74258659,  1.18177663,  1.90670923, -0.62909683, -0.88480332,\n",
       "        1.36031025, -1.81356946,  0.22574528, -2.04008791,  0.97908379,\n",
       "        0.70826913,  1.69194438, -1.10085836, -1.62948661, -0.98264143,\n",
       "       -1.2974054 , -0.41338789,  1.36248446,  0.02549132, -0.53853165,\n",
       "       -0.67917717,  1.24542928,  0.1690247 ,  1.01280811,  0.09250824,\n",
       "        0.52241373, -0.96963813,  0.17993646,  0.26456346, -0.16578458,\n",
       "        0.11119568, -0.95366576,  0.93642981,  0.1277484 ,  0.7210995 ,\n",
       "       -1.0774236 , -0.1767183 ,  0.53188167, -0.45079906,  0.15479899,\n",
       "       -0.61206168,  0.7178018 ,  0.21346483, -0.08242399, -1.26232211,\n",
       "        1.55773332, -1.28911771,  1.18841696,  1.02688949, -0.68269467,\n",
       "        1.4109055 , -1.28401831, -1.58432277,  0.14626582, -2.37353223,\n",
       "       -0.66067386, -0.04515053,  1.50712599,  1.08830767,  0.34232791])"
      ]
     },
     "execution_count": 18,
     "metadata": {},
     "output_type": "execute_result"
    }
   ],
   "source": [
    "y_pred_rf = model_rf.predict(X_test)\n",
    "y_pred_rf"
   ]
  },
  {
   "cell_type": "code",
   "execution_count": 19,
   "id": "202e5e44-b61a-4bbd-889d-6911f786220e",
   "metadata": {},
   "outputs": [
    {
     "data": {
      "text/plain": [
       "0.9804742967475853"
      ]
     },
     "execution_count": 19,
     "metadata": {},
     "output_type": "execute_result"
    }
   ],
   "source": [
    "model_rf.score(X_test,y_test)"
   ]
  },
  {
   "cell_type": "code",
   "execution_count": 20,
   "id": "73af8c8d-9df7-4e6a-9748-c6ebd826cfaa",
   "metadata": {},
   "outputs": [],
   "source": [
    "from sklearn.metrics import mean_squared_error, mean_absolute_error, r2_score"
   ]
  },
  {
   "cell_type": "code",
   "execution_count": 21,
   "id": "542da138-a7db-4e2a-9566-33e6a779db13",
   "metadata": {},
   "outputs": [],
   "source": [
    "rf_mse = mean_squared_error(y_test, y_pred_rf)\n",
    "rf_mae = mean_absolute_error(y_test, y_pred_rf)\n",
    "rf_r2 = r2_score(y_test, y_pred_rf)"
   ]
  },
  {
   "cell_type": "code",
   "execution_count": 22,
   "id": "e2b6a089-65ad-47f2-9911-ec21b59cfd18",
   "metadata": {},
   "outputs": [
    {
     "name": "stdout",
     "output_type": "stream",
     "text": [
      "Random Forest Regressor Performance\n",
      "Mean Squared Error :  0.020165312548056123\n",
      "Mean Absolute Error :  0.10534479242294256\n",
      "R-Squared :  0.9804742967475853\n"
     ]
    }
   ],
   "source": [
    "print('Random Forest Regressor Performance')\n",
    "print('Mean Squared Error : ',rf_mse)\n",
    "print('Mean Absolute Error : ',rf_mae)\n",
    "print('R-Squared : ',rf_r2)"
   ]
  },
  {
   "cell_type": "code",
   "execution_count": 23,
   "id": "76e26b84-e709-497a-96a5-4b336ec2a030",
   "metadata": {},
   "outputs": [],
   "source": [
    "from sklearn.linear_model import LinearRegression"
   ]
  },
  {
   "cell_type": "code",
   "execution_count": 24,
   "id": "5a91b6b7-8be0-4cbd-9515-8551d777b7f2",
   "metadata": {},
   "outputs": [
    {
     "data": {
      "text/html": [
       "<style>#sk-container-id-2 {color: black;background-color: white;}#sk-container-id-2 pre{padding: 0;}#sk-container-id-2 div.sk-toggleable {background-color: white;}#sk-container-id-2 label.sk-toggleable__label {cursor: pointer;display: block;width: 100%;margin-bottom: 0;padding: 0.3em;box-sizing: border-box;text-align: center;}#sk-container-id-2 label.sk-toggleable__label-arrow:before {content: \"▸\";float: left;margin-right: 0.25em;color: #696969;}#sk-container-id-2 label.sk-toggleable__label-arrow:hover:before {color: black;}#sk-container-id-2 div.sk-estimator:hover label.sk-toggleable__label-arrow:before {color: black;}#sk-container-id-2 div.sk-toggleable__content {max-height: 0;max-width: 0;overflow: hidden;text-align: left;background-color: #f0f8ff;}#sk-container-id-2 div.sk-toggleable__content pre {margin: 0.2em;color: black;border-radius: 0.25em;background-color: #f0f8ff;}#sk-container-id-2 input.sk-toggleable__control:checked~div.sk-toggleable__content {max-height: 200px;max-width: 100%;overflow: auto;}#sk-container-id-2 input.sk-toggleable__control:checked~label.sk-toggleable__label-arrow:before {content: \"▾\";}#sk-container-id-2 div.sk-estimator input.sk-toggleable__control:checked~label.sk-toggleable__label {background-color: #d4ebff;}#sk-container-id-2 div.sk-label input.sk-toggleable__control:checked~label.sk-toggleable__label {background-color: #d4ebff;}#sk-container-id-2 input.sk-hidden--visually {border: 0;clip: rect(1px 1px 1px 1px);clip: rect(1px, 1px, 1px, 1px);height: 1px;margin: -1px;overflow: hidden;padding: 0;position: absolute;width: 1px;}#sk-container-id-2 div.sk-estimator {font-family: monospace;background-color: #f0f8ff;border: 1px dotted black;border-radius: 0.25em;box-sizing: border-box;margin-bottom: 0.5em;}#sk-container-id-2 div.sk-estimator:hover {background-color: #d4ebff;}#sk-container-id-2 div.sk-parallel-item::after {content: \"\";width: 100%;border-bottom: 1px solid gray;flex-grow: 1;}#sk-container-id-2 div.sk-label:hover label.sk-toggleable__label {background-color: #d4ebff;}#sk-container-id-2 div.sk-serial::before {content: \"\";position: absolute;border-left: 1px solid gray;box-sizing: border-box;top: 0;bottom: 0;left: 50%;z-index: 0;}#sk-container-id-2 div.sk-serial {display: flex;flex-direction: column;align-items: center;background-color: white;padding-right: 0.2em;padding-left: 0.2em;position: relative;}#sk-container-id-2 div.sk-item {position: relative;z-index: 1;}#sk-container-id-2 div.sk-parallel {display: flex;align-items: stretch;justify-content: center;background-color: white;position: relative;}#sk-container-id-2 div.sk-item::before, #sk-container-id-2 div.sk-parallel-item::before {content: \"\";position: absolute;border-left: 1px solid gray;box-sizing: border-box;top: 0;bottom: 0;left: 50%;z-index: -1;}#sk-container-id-2 div.sk-parallel-item {display: flex;flex-direction: column;z-index: 1;position: relative;background-color: white;}#sk-container-id-2 div.sk-parallel-item:first-child::after {align-self: flex-end;width: 50%;}#sk-container-id-2 div.sk-parallel-item:last-child::after {align-self: flex-start;width: 50%;}#sk-container-id-2 div.sk-parallel-item:only-child::after {width: 0;}#sk-container-id-2 div.sk-dashed-wrapped {border: 1px dashed gray;margin: 0 0.4em 0.5em 0.4em;box-sizing: border-box;padding-bottom: 0.4em;background-color: white;}#sk-container-id-2 div.sk-label label {font-family: monospace;font-weight: bold;display: inline-block;line-height: 1.2em;}#sk-container-id-2 div.sk-label-container {text-align: center;}#sk-container-id-2 div.sk-container {/* jupyter's `normalize.less` sets `[hidden] { display: none; }` but bootstrap.min.css set `[hidden] { display: none !important; }` so we also need the `!important` here to be able to override the default hidden behavior on the sphinx rendered scikit-learn.org. See: https://github.com/scikit-learn/scikit-learn/issues/21755 */display: inline-block !important;position: relative;}#sk-container-id-2 div.sk-text-repr-fallback {display: none;}</style><div id=\"sk-container-id-2\" class=\"sk-top-container\"><div class=\"sk-text-repr-fallback\"><pre>LinearRegression()</pre><b>In a Jupyter environment, please rerun this cell to show the HTML representation or trust the notebook. <br />On GitHub, the HTML representation is unable to render, please try loading this page with nbviewer.org.</b></div><div class=\"sk-container\" hidden><div class=\"sk-item\"><div class=\"sk-estimator sk-toggleable\"><input class=\"sk-toggleable__control sk-hidden--visually\" id=\"sk-estimator-id-2\" type=\"checkbox\" checked><label for=\"sk-estimator-id-2\" class=\"sk-toggleable__label sk-toggleable__label-arrow\">LinearRegression</label><div class=\"sk-toggleable__content\"><pre>LinearRegression()</pre></div></div></div></div></div>"
      ],
      "text/plain": [
       "LinearRegression()"
      ]
     },
     "execution_count": 24,
     "metadata": {},
     "output_type": "execute_result"
    }
   ],
   "source": [
    "model_lr = LinearRegression()\n",
    "model_lr.fit(X_train, y_train)"
   ]
  },
  {
   "cell_type": "code",
   "execution_count": 25,
   "id": "1b73aa56-db24-4bf4-8bb9-137626d55bf5",
   "metadata": {},
   "outputs": [],
   "source": [
    "y_pred_lr = model_lr.predict(X_test)"
   ]
  },
  {
   "cell_type": "code",
   "execution_count": 26,
   "id": "c8e2c5cf-1ed3-423d-a846-cc03a32d10ee",
   "metadata": {},
   "outputs": [
    {
     "data": {
      "text/plain": [
       "0.6677584828673423"
      ]
     },
     "execution_count": 26,
     "metadata": {},
     "output_type": "execute_result"
    }
   ],
   "source": [
    "model_lr.score(X_test,y_test)"
   ]
  },
  {
   "cell_type": "code",
   "execution_count": 27,
   "id": "56d65589-986e-4fc5-ab46-c194a9231212",
   "metadata": {},
   "outputs": [],
   "source": [
    "lr_mse = mean_squared_error(y_test, y_pred_lr)\n",
    "lr_mae = mean_absolute_error(y_test, y_pred_lr)\n",
    "lr_r2 = r2_score(y_test, y_pred_lr)"
   ]
  },
  {
   "cell_type": "code",
   "execution_count": 28,
   "id": "2a8005e9-94c9-42cc-908b-bee2252b6601",
   "metadata": {},
   "outputs": [
    {
     "name": "stdout",
     "output_type": "stream",
     "text": [
      "Linear Regression Performance\n",
      "Mean Squared Error :  0.34312485178180985\n",
      "Mean Absolute Error :  0.47594154765422075\n",
      "R-Squared :  0.6677584828673423\n"
     ]
    }
   ],
   "source": [
    "print('Linear Regression Performance')\n",
    "print('Mean Squared Error : ',lr_mse)\n",
    "print('Mean Absolute Error : ',lr_mae)\n",
    "print('R-Squared : ',lr_r2)"
   ]
  },
  {
   "cell_type": "code",
   "execution_count": 29,
   "id": "d4eb78de-295d-4f07-9736-924fb6576849",
   "metadata": {},
   "outputs": [],
   "source": [
    "from sklearn.tree import DecisionTreeRegressor"
   ]
  },
  {
   "cell_type": "code",
   "execution_count": 30,
   "id": "368e7efd-c88d-48fc-9c3b-9f747daf4e16",
   "metadata": {},
   "outputs": [
    {
     "data": {
      "text/html": [
       "<style>#sk-container-id-3 {color: black;background-color: white;}#sk-container-id-3 pre{padding: 0;}#sk-container-id-3 div.sk-toggleable {background-color: white;}#sk-container-id-3 label.sk-toggleable__label {cursor: pointer;display: block;width: 100%;margin-bottom: 0;padding: 0.3em;box-sizing: border-box;text-align: center;}#sk-container-id-3 label.sk-toggleable__label-arrow:before {content: \"▸\";float: left;margin-right: 0.25em;color: #696969;}#sk-container-id-3 label.sk-toggleable__label-arrow:hover:before {color: black;}#sk-container-id-3 div.sk-estimator:hover label.sk-toggleable__label-arrow:before {color: black;}#sk-container-id-3 div.sk-toggleable__content {max-height: 0;max-width: 0;overflow: hidden;text-align: left;background-color: #f0f8ff;}#sk-container-id-3 div.sk-toggleable__content pre {margin: 0.2em;color: black;border-radius: 0.25em;background-color: #f0f8ff;}#sk-container-id-3 input.sk-toggleable__control:checked~div.sk-toggleable__content {max-height: 200px;max-width: 100%;overflow: auto;}#sk-container-id-3 input.sk-toggleable__control:checked~label.sk-toggleable__label-arrow:before {content: \"▾\";}#sk-container-id-3 div.sk-estimator input.sk-toggleable__control:checked~label.sk-toggleable__label {background-color: #d4ebff;}#sk-container-id-3 div.sk-label input.sk-toggleable__control:checked~label.sk-toggleable__label {background-color: #d4ebff;}#sk-container-id-3 input.sk-hidden--visually {border: 0;clip: rect(1px 1px 1px 1px);clip: rect(1px, 1px, 1px, 1px);height: 1px;margin: -1px;overflow: hidden;padding: 0;position: absolute;width: 1px;}#sk-container-id-3 div.sk-estimator {font-family: monospace;background-color: #f0f8ff;border: 1px dotted black;border-radius: 0.25em;box-sizing: border-box;margin-bottom: 0.5em;}#sk-container-id-3 div.sk-estimator:hover {background-color: #d4ebff;}#sk-container-id-3 div.sk-parallel-item::after {content: \"\";width: 100%;border-bottom: 1px solid gray;flex-grow: 1;}#sk-container-id-3 div.sk-label:hover label.sk-toggleable__label {background-color: #d4ebff;}#sk-container-id-3 div.sk-serial::before {content: \"\";position: absolute;border-left: 1px solid gray;box-sizing: border-box;top: 0;bottom: 0;left: 50%;z-index: 0;}#sk-container-id-3 div.sk-serial {display: flex;flex-direction: column;align-items: center;background-color: white;padding-right: 0.2em;padding-left: 0.2em;position: relative;}#sk-container-id-3 div.sk-item {position: relative;z-index: 1;}#sk-container-id-3 div.sk-parallel {display: flex;align-items: stretch;justify-content: center;background-color: white;position: relative;}#sk-container-id-3 div.sk-item::before, #sk-container-id-3 div.sk-parallel-item::before {content: \"\";position: absolute;border-left: 1px solid gray;box-sizing: border-box;top: 0;bottom: 0;left: 50%;z-index: -1;}#sk-container-id-3 div.sk-parallel-item {display: flex;flex-direction: column;z-index: 1;position: relative;background-color: white;}#sk-container-id-3 div.sk-parallel-item:first-child::after {align-self: flex-end;width: 50%;}#sk-container-id-3 div.sk-parallel-item:last-child::after {align-self: flex-start;width: 50%;}#sk-container-id-3 div.sk-parallel-item:only-child::after {width: 0;}#sk-container-id-3 div.sk-dashed-wrapped {border: 1px dashed gray;margin: 0 0.4em 0.5em 0.4em;box-sizing: border-box;padding-bottom: 0.4em;background-color: white;}#sk-container-id-3 div.sk-label label {font-family: monospace;font-weight: bold;display: inline-block;line-height: 1.2em;}#sk-container-id-3 div.sk-label-container {text-align: center;}#sk-container-id-3 div.sk-container {/* jupyter's `normalize.less` sets `[hidden] { display: none; }` but bootstrap.min.css set `[hidden] { display: none !important; }` so we also need the `!important` here to be able to override the default hidden behavior on the sphinx rendered scikit-learn.org. See: https://github.com/scikit-learn/scikit-learn/issues/21755 */display: inline-block !important;position: relative;}#sk-container-id-3 div.sk-text-repr-fallback {display: none;}</style><div id=\"sk-container-id-3\" class=\"sk-top-container\"><div class=\"sk-text-repr-fallback\"><pre>DecisionTreeRegressor(random_state=42)</pre><b>In a Jupyter environment, please rerun this cell to show the HTML representation or trust the notebook. <br />On GitHub, the HTML representation is unable to render, please try loading this page with nbviewer.org.</b></div><div class=\"sk-container\" hidden><div class=\"sk-item\"><div class=\"sk-estimator sk-toggleable\"><input class=\"sk-toggleable__control sk-hidden--visually\" id=\"sk-estimator-id-3\" type=\"checkbox\" checked><label for=\"sk-estimator-id-3\" class=\"sk-toggleable__label sk-toggleable__label-arrow\">DecisionTreeRegressor</label><div class=\"sk-toggleable__content\"><pre>DecisionTreeRegressor(random_state=42)</pre></div></div></div></div></div>"
      ],
      "text/plain": [
       "DecisionTreeRegressor(random_state=42)"
      ]
     },
     "execution_count": 30,
     "metadata": {},
     "output_type": "execute_result"
    }
   ],
   "source": [
    "model_dt = DecisionTreeRegressor(random_state=42)\n",
    "model_dt.fit(X_train,y_train)"
   ]
  },
  {
   "cell_type": "code",
   "execution_count": 31,
   "id": "f35dca37-998b-42b9-88d7-da0e2eed7dd1",
   "metadata": {},
   "outputs": [],
   "source": [
    "y_pred_dt = model_dt.predict(X_test)"
   ]
  },
  {
   "cell_type": "code",
   "execution_count": 32,
   "id": "4adae2c9-e025-458f-b623-7dcd43a3284d",
   "metadata": {},
   "outputs": [
    {
     "data": {
      "text/plain": [
       "0.8020157761717622"
      ]
     },
     "execution_count": 32,
     "metadata": {},
     "output_type": "execute_result"
    }
   ],
   "source": [
    "model_dt.score(X_test,y_test)"
   ]
  },
  {
   "cell_type": "code",
   "execution_count": 33,
   "id": "2561b6f0-e3bc-4e36-9fd7-236784c8c44f",
   "metadata": {},
   "outputs": [],
   "source": [
    "dt_mse = mean_squared_error(y_test, y_pred_dt)\n",
    "dt_mae = mean_absolute_error(y_test, y_pred_dt)\n",
    "dt_r2 = r2_score(y_test, y_pred_dt)"
   ]
  },
  {
   "cell_type": "code",
   "execution_count": 34,
   "id": "819d14b0-9ea7-4b32-9999-08c1244f9ca8",
   "metadata": {},
   "outputs": [
    {
     "name": "stdout",
     "output_type": "stream",
     "text": [
      "Decision Tree Performance\n",
      "Mean Squared Error :  0.20446965220507432\n",
      "Mean Absolute Error :  0.33155896710080673\n",
      "R-Squared :  0.8020157761717622\n"
     ]
    }
   ],
   "source": [
    "print('Decision Tree Performance')\n",
    "print('Mean Squared Error : ',dt_mse)\n",
    "print('Mean Absolute Error : ',dt_mae)\n",
    "print('R-Squared : ',dt_r2)"
   ]
  },
  {
   "cell_type": "code",
   "execution_count": 36,
   "id": "0af4f168-093b-4489-9ae4-488897fcd7d2",
   "metadata": {},
   "outputs": [
    {
     "data": {
      "text/html": [
       "<div>\n",
       "<style scoped>\n",
       "    .dataframe tbody tr th:only-of-type {\n",
       "        vertical-align: middle;\n",
       "    }\n",
       "\n",
       "    .dataframe tbody tr th {\n",
       "        vertical-align: top;\n",
       "    }\n",
       "\n",
       "    .dataframe thead th {\n",
       "        text-align: right;\n",
       "    }\n",
       "</style>\n",
       "<table border=\"1\" class=\"dataframe\">\n",
       "  <thead>\n",
       "    <tr style=\"text-align: right;\">\n",
       "      <th></th>\n",
       "      <th>Model</th>\n",
       "      <th>MAE</th>\n",
       "      <th>MSE</th>\n",
       "      <th>R2</th>\n",
       "    </tr>\n",
       "  </thead>\n",
       "  <tbody>\n",
       "    <tr>\n",
       "      <th>0</th>\n",
       "      <td>Linear Regression</td>\n",
       "      <td>0.475942</td>\n",
       "      <td>0.343125</td>\n",
       "      <td>0.667758</td>\n",
       "    </tr>\n",
       "    <tr>\n",
       "      <th>1</th>\n",
       "      <td>Decision tree</td>\n",
       "      <td>0.331559</td>\n",
       "      <td>0.204470</td>\n",
       "      <td>0.802016</td>\n",
       "    </tr>\n",
       "    <tr>\n",
       "      <th>2</th>\n",
       "      <td>Random Forest Regressor</td>\n",
       "      <td>0.105345</td>\n",
       "      <td>0.020165</td>\n",
       "      <td>0.980474</td>\n",
       "    </tr>\n",
       "  </tbody>\n",
       "</table>\n",
       "</div>"
      ],
      "text/plain": [
       "                     Model       MAE       MSE        R2\n",
       "0        Linear Regression  0.475942  0.343125  0.667758\n",
       "1            Decision tree  0.331559  0.204470  0.802016\n",
       "2  Random Forest Regressor  0.105345  0.020165  0.980474"
      ]
     },
     "execution_count": 36,
     "metadata": {},
     "output_type": "execute_result"
    }
   ],
   "source": [
    "model_info={\n",
    "    'Model':['Linear Regression','Decision tree','Random Forest Regressor'],\n",
    "    'MAE':[lr_mae,dt_mae,rf_mae],\n",
    "    'MSE':[lr_mse,dt_mse,rf_mse],\n",
    "    'R2':[lr_r2,dt_r2,rf_r2],  \n",
    "}\n",
    "per = pd.DataFrame(model_info)\n",
    "per"
   ]
  },
  {
   "cell_type": "code",
   "execution_count": 37,
   "id": "3a114198-9967-4fe6-9d7e-3d63c6af6686",
   "metadata": {},
   "outputs": [
    {
     "data": {
      "image/png": "[encoded data removed]",
      "text/plain": [
       "<Figure size 640x480 with 1 Axes>"
      ]
     },
     "metadata": {},
     "output_type": "display_data"
    }
   ],
   "source": [
    "per.plot(kind='bar', x= 'Model')\n",
    "plt.show()\n"
   ]
  },
  {
   "cell_type": "code",
   "execution_count": 38,
   "id": "6f47ba0a-6a4d-40a5-a190-a4e81b165d74",
   "metadata": {},
   "outputs": [
    {
     "name": "stdout",
     "output_type": "stream",
     "text": [
      "Best Model Random Forest Classifier\n"
     ]
    }
   ],
   "source": [
    "print('Best Model Random Forest Classifier')"
   ]
  },
  {
   "cell_type": "code",
   "execution_count": 40,
   "id": "dd2d9030-07b9-4058-8640-856c15e2b50b",
   "metadata": {},
   "outputs": [
    {
     "name": "stdout",
     "output_type": "stream",
     "text": [
      "2.1735566334611507\n"
     ]
    }
   ],
   "source": [
    "def laptop(comp, name, ram, wgt, touch, ips, ppi, cpu, hdd, ssd, gpu, os):\n",
    "    ft = {\n",
    "        'Company': comp,\n",
    "        'TypeName': name,\n",
    "        'Ram': ram,\n",
    "        'Weight': wgt,\n",
    "        'TouchScreen': touch,\n",
    "        'Ips': ips,\n",
    "        'Ppi': ppi,\n",
    "        'Cpu_brand': cpu,\n",
    "        'HDD': hdd,\n",
    "        'SSD': ssd,\n",
    "        'Gpu_brand': gpu,\n",
    "        'Os': os\n",
    "    }\n",
    "    \n",
    "    input = pd.DataFrame([ft])\n",
    "    predicted = model_rf.predict(input)\n",
    "    return predicted[0]\n",
    "\n",
    "print(laptop(7, 2, 12, 3.5, 2, 0, 252, 2, 1, 712, 4, 2))\n"
   ]
  },
  {
   "cell_type": "code",
   "execution_count": null,
   "id": "4142d87f-39bd-475b-b067-eb1079321802",
   "metadata": {},
   "outputs": [],
   "source": []
  }
 ],
 "metadata": {
  "kernelspec": {
   "display_name": "Python 3 (ipykernel)",
   "language": "python",
   "name": "python3"
  },
  "language_info": {
   "codemirror_mode": {
    "name": "ipython",
    "version": 3
   },
   "file_extension": ".py",
   "mimetype": "text/x-python",
   "name": "python",
   "nbconvert_exporter": "python",
   "pygments_lexer": "ipython3",
   "version": "3.11.7"
  }
 },
 "nbformat": 4,
 "nbformat_minor": 5
}
